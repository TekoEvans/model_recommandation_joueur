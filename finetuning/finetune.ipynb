{
 "cells": [
  {
   "cell_type": "code",
   "execution_count": null,
   "id": "20efb593",
   "metadata": {},
   "outputs": [
    {
     "ename": "ImportError",
     "evalue": "cannot import name 'AdamW' from 'transformers' (/usr/local/lib/python3.9/site-packages/transformers/__init__.py)",
     "output_type": "error",
     "traceback": [
      "\u001b[0;31m---------------------------------------------------------------------------\u001b[0m",
      "\u001b[0;31mImportError\u001b[0m                               Traceback (most recent call last)",
      "Cell \u001b[0;32mIn[53], line 1\u001b[0m\n\u001b[0;32m----> 1\u001b[0m \u001b[38;5;28;01mfrom\u001b[39;00m\u001b[38;5;250m \u001b[39m\u001b[38;5;21;01mtransformers\u001b[39;00m\u001b[38;5;250m \u001b[39m\u001b[38;5;28;01mimport\u001b[39;00m AutoTokenizer,AdamW, AutoModelForCausalLM, Trainer, TrainingArguments, DataCollatorForLanguageModeling\n\u001b[1;32m      2\u001b[0m \u001b[38;5;28;01mimport\u001b[39;00m\u001b[38;5;250m \u001b[39m\u001b[38;5;21;01mtorch\u001b[39;00m\n\u001b[1;32m      3\u001b[0m \u001b[38;5;28;01mfrom\u001b[39;00m\u001b[38;5;250m \u001b[39m\u001b[38;5;21;01mdatasets\u001b[39;00m\u001b[38;5;250m \u001b[39m\u001b[38;5;28;01mimport\u001b[39;00m load_dataset\n",
      "\u001b[0;31mImportError\u001b[0m: cannot import name 'AdamW' from 'transformers' (/usr/local/lib/python3.9/site-packages/transformers/__init__.py)"
     ]
    }
   ],
   "source": [
    "\n",
    "from transformers import AutoTokenizer, AutoModelForCausalLM, Trainer, TrainingArguments, DataCollatorForLanguageModeling\n",
    "import torch\n",
    "from datasets import load_dataset\n",
    "from peft import get_peft_model, LoraConfig, TaskType, prepare_model_for_kbit_training\n",
    "import pandas as pd\n"
   ]
  },
  {
   "cell_type": "code",
   "execution_count": 14,
   "id": "bbb5cd44",
   "metadata": {},
   "outputs": [
    {
     "data": {
      "text/html": [
       "<div>\n",
       "<style scoped>\n",
       "    .dataframe tbody tr th:only-of-type {\n",
       "        vertical-align: middle;\n",
       "    }\n",
       "\n",
       "    .dataframe tbody tr th {\n",
       "        vertical-align: top;\n",
       "    }\n",
       "\n",
       "    .dataframe thead th {\n",
       "        text-align: right;\n",
       "    }\n",
       "</style>\n",
       "<table border=\"1\" class=\"dataframe\">\n",
       "  <thead>\n",
       "    <tr style=\"text-align: right;\">\n",
       "      <th></th>\n",
       "      <th>input</th>\n",
       "      <th>output</th>\n",
       "    </tr>\n",
       "  </thead>\n",
       "  <tbody>\n",
       "    <tr>\n",
       "      <th>0</th>\n",
       "      <td>Ce joueur a 20 ans et évolue au poste de Arriè...</td>\n",
       "      <td>Le poste d'Arrière gauche semble bien adapté à...</td>\n",
       "    </tr>\n",
       "  </tbody>\n",
       "</table>\n",
       "</div>"
      ],
      "text/plain": [
       "                                               input  \\\n",
       "0  Ce joueur a 20 ans et évolue au poste de Arriè...   \n",
       "\n",
       "                                              output  \n",
       "0  Le poste d'Arrière gauche semble bien adapté à...  "
      ]
     },
     "execution_count": 14,
     "metadata": {},
     "output_type": "execute_result"
    }
   ],
   "source": [
    "data = pd.read_csv(\"/workspaces/TestTecnique/finetuning/joueurs_dataset.csv\", sep=\",\")\n",
    "data.head(1)"
   ]
  },
  {
   "cell_type": "code",
   "execution_count": 18,
   "id": "66034832",
   "metadata": {},
   "outputs": [],
   "source": [
    "#   model  de base a fin-tuner : TinyLLaMA \n",
    "model_name = \"TinyLlama/TinyLlama-1.1B-Chat-v1.0\"\n",
    "tokenizer = AutoTokenizer.from_pretrained(model_name, padding_side=\"right\",)\n",
    "tokenizer.pad_token = tokenizer.eos_token\n",
    "\n",
    "model = AutoModelForCausalLM.from_pretrained(model_name)"
   ]
  },
  {
   "cell_type": "code",
   "execution_count": null,
   "id": "94c0a062",
   "metadata": {},
   "outputs": [],
   "source": [
    "model.to(\"cpu\")"
   ]
  },
  {
   "cell_type": "code",
   "execution_count": null,
   "id": "9380ab8a",
   "metadata": {},
   "outputs": [
    {
     "name": "stdout",
     "output_type": "stream",
     "text": [
      "<s> ###SYSTEM: En tant qu'expert en analyse de statistques de football dis moi le poste du joueur est adapté et recommande des exercises physique pour ammeliorer ses perfomances\n",
      "\n",
      "###INPUT: Ce joueur a 20 ans et évolue au poste de Arrière gauche. Il a disputé 20 matchs, marqué 22 but(s) et délivré 18 passe(s) décisive(s).\n",
      "\n",
      "###OUTPUT: Ce joueur a une moyenne de 0,8 buts par match et une moyenne de 0,8 passe(s) décisive(s) par match. Il a une moyenne de 0,8 buts par match et une moyenne de 0,8 passe(s) décisive(s) par match.\n",
      "\n",
      "###SYSTEM: En tant qu'expert en analyse de statistques de football dis moi le poste du joueur est adapté et recommande des exercises physique pour ammeliorer ses performances en tant que joueur de l'équipe.\n",
      "\n",
      "###INPUT: Ce joueur a 20 ans et évolue au poste de Arrière gauche. Il a disputé 20 matchs, marqué 22 but(s) et délivré 18 passe(s) décisive(s).\n",
      "\n",
      "###OUTPUT: Ce joueur a une moyenne de 0\n"
     ]
    }
   ],
   "source": [
    "txt = \"\"\"<|system|>\n",
    "          En tant qu'expert en analyse de statistques de football dis moi le poste du joueur est adapté et recommande des exercises physique pour ammeliorer ses perfomances.\n",
    "        <|user|>\n",
    "          Ce joueur a 20 ans et évolue au poste de Arrière gauche. Il a disputé 20 matchs, marqué 22 but(s) et délivré 18 passe(s) décisive(s).\n",
    "        <|assistant|>\n",
    "\n",
    "        \"\"\"\n",
    "tokens = tokenizer(txt, return_tensors=\"pt\")['input_ids'].to(\"cpu\")\n",
    "op = model.generate(tokens, max_new_tokens=200)\n",
    "print(tokenizer.decode(op[0]))"
   ]
  },
  {
   "cell_type": "code",
   "execution_count": null,
   "id": "d75bb980",
   "metadata": {},
   "outputs": [
    {
     "name": "stdout",
     "output_type": "stream",
     "text": [
      "trainable params: 1,126,400 || all params: 1,101,174,784 || trainable%: 0.1023\n",
      "None\n"
     ]
    }
   ],
   "source": [
    "\n",
    "\n",
    "model.gradient_checkpointing_enable()\n",
    "model = prepare_model_for_kbit_training(model)\n",
    "\n",
    "peft_config = LoraConfig(inference_mode=False, r=8, lora_alpha=32, lora_dropout=0.1, peft_type=TaskType.CAUSAL_LM)\n",
    "model = get_peft_model(model, peft_config)\n",
    "\n",
    "print(model.print_trainable_parameters())"
   ]
  },
  {
   "cell_type": "code",
   "execution_count": 29,
   "id": "b0207fe8",
   "metadata": {},
   "outputs": [],
   "source": [
    "#preparation de la data a entrainée\n",
    "def format_dataset(data_point):\n",
    "    prompt = f\"\"\"###SYSTEM: En tant qu'expert en analyse de statistques de football dis moi le poste du joueur est adapté et recommande des exercises physique pour ammeliorer ses perfomances.\n",
    "\n",
    "###INPUT: {data_point['input']}\n",
    "\n",
    "###OUTPUT: {data_point['output']}\n",
    "\"\"\"\n",
    "    tokens = tokenizer(prompt,\n",
    "        truncation=True,\n",
    "        max_length=256,\n",
    "        padding=\"max_length\",)\n",
    "    tokens[\"labels\"] = tokens['input_ids'].copy()\n",
    "    return tokens"
   ]
  },
  {
   "cell_type": "code",
   "execution_count": null,
   "id": "53c81e54",
   "metadata": {},
   "outputs": [
    {
     "name": "stdout",
     "output_type": "stream",
     "text": [
      "{'input': 'Ce joueur a 20 ans et évolue au poste de Arrière gauche. Il a disputé 20 matchs, marqué 22 but(s) et délivré 18 passe(s) décisive(s).', 'output': \"Le poste d'Arrière gauche semble bien adapté à ce joueur jeune et dynamique avec une forte contribution offensive. Conseils : travaillez la vitesse de sprint, l’endurance aérobique et les centres en mouvement. Renforcez les quadriceps et les ischio-jambiers avec du squat et du gainage latéral.\"}\n"
     ]
    },
    {
     "name": "stderr",
     "output_type": "stream",
     "text": [
      "Map: 100%|██████████| 150/150 [00:00<00:00, 1505.85 examples/s]"
     ]
    },
    {
     "name": "stdout",
     "output_type": "stream",
     "text": [
      "{'input': 'Ce joueur a 20 ans et évolue au poste de Arrière gauche. Il a disputé 20 matchs, marqué 22 but(s) et délivré 18 passe(s) décisive(s).', 'output': \"Le poste d'Arrière gauche semble bien adapté à ce joueur jeune et dynamique avec une forte contribution offensive. Conseils : travaillez la vitesse de sprint, l’endurance aérobique et les centres en mouvement. Renforcez les quadriceps et les ischio-jambiers avec du squat et du gainage latéral.\", 'input_ids': [1, 835, 14816, 1254, 12665, 29901, 1174, 11172, 439, 29915, 735, 10700, 427, 16455, 344, 316, 12997, 1912, 316, 5733, 766, 19601, 454, 23277, 868, 23009, 707, 7744, 29948, 634, 27878, 13990, 553, 24472, 3476, 267, 4824, 1387, 1671, 626, 12873, 1611, 261, 3999, 23895, 2480, 778, 29889, 13, 13, 2277, 29937, 1177, 12336, 29901, 7747, 23009, 263, 29871, 29906, 29900, 6063, 634, 29378, 434, 782, 23277, 316, 826, 9318, 26003, 29889, 1720, 263, 8937, 29948, 29871, 29906, 29900, 1993, 29879, 29892, 1766, 17851, 29871, 29906, 29906, 541, 29898, 29879, 29897, 634, 1437, 17843, 5606, 29871, 29896, 29947, 21714, 29898, 29879, 29897, 1437, 3476, 573, 29898, 29879, 467, 13, 13, 2277, 29937, 12015, 12336, 29901, 951, 23277, 270, 29915, 1433, 9318, 26003, 3031, 569, 6079, 7744, 29948, 818, 2257, 23009, 17222, 634, 4292, 1387, 2535, 1597, 19624, 11896, 1283, 6270, 29889, 15946, 2719, 584, 6427, 8284, 29920, 425, 325, 3246, 344, 316, 269, 2158, 29892, 301, 30010, 355, 18541, 263, 10651, 29890, 1387, 634, 966, 1644, 690, 427, 25924, 29889, 7493, 10118, 29920, 966, 15448, 625, 567, 634, 966, 338, 19608, 29899, 29926, 1117, 4285, 2535, 868, 10674, 271, 634, 868, 11581, 482, 3405, 8165, 29889, 13, 2, 2, 2, 2, 2, 2, 2, 2, 2, 2, 2, 2, 2, 2, 2, 2, 2, 2, 2, 2, 2, 2, 2, 2, 2, 2, 2, 2, 2, 2, 2, 2, 2, 2, 2, 2, 2, 2, 2, 2, 2, 2, 2, 2, 2, 2, 2, 2, 2, 2, 2, 2, 2, 2, 2, 2, 2, 2, 2], 'attention_mask': [1, 1, 1, 1, 1, 1, 1, 1, 1, 1, 1, 1, 1, 1, 1, 1, 1, 1, 1, 1, 1, 1, 1, 1, 1, 1, 1, 1, 1, 1, 1, 1, 1, 1, 1, 1, 1, 1, 1, 1, 1, 1, 1, 1, 1, 1, 1, 1, 1, 1, 1, 1, 1, 1, 1, 1, 1, 1, 1, 1, 1, 1, 1, 1, 1, 1, 1, 1, 1, 1, 1, 1, 1, 1, 1, 1, 1, 1, 1, 1, 1, 1, 1, 1, 1, 1, 1, 1, 1, 1, 1, 1, 1, 1, 1, 1, 1, 1, 1, 1, 1, 1, 1, 1, 1, 1, 1, 1, 1, 1, 1, 1, 1, 1, 1, 1, 1, 1, 1, 1, 1, 1, 1, 1, 1, 1, 1, 1, 1, 1, 1, 1, 1, 1, 1, 1, 1, 1, 1, 1, 1, 1, 1, 1, 1, 1, 1, 1, 1, 1, 1, 1, 1, 1, 1, 1, 1, 1, 1, 1, 1, 1, 1, 1, 1, 1, 1, 1, 1, 1, 1, 1, 1, 1, 1, 1, 1, 1, 1, 1, 1, 1, 1, 1, 1, 1, 1, 1, 1, 1, 1, 1, 1, 1, 1, 1, 1, 0, 0, 0, 0, 0, 0, 0, 0, 0, 0, 0, 0, 0, 0, 0, 0, 0, 0, 0, 0, 0, 0, 0, 0, 0, 0, 0, 0, 0, 0, 0, 0, 0, 0, 0, 0, 0, 0, 0, 0, 0, 0, 0, 0, 0, 0, 0, 0, 0, 0, 0, 0, 0, 0, 0, 0, 0, 0, 0], 'labels': [1, 835, 14816, 1254, 12665, 29901, 1174, 11172, 439, 29915, 735, 10700, 427, 16455, 344, 316, 12997, 1912, 316, 5733, 766, 19601, 454, 23277, 868, 23009, 707, 7744, 29948, 634, 27878, 13990, 553, 24472, 3476, 267, 4824, 1387, 1671, 626, 12873, 1611, 261, 3999, 23895, 2480, 778, 29889, 13, 13, 2277, 29937, 1177, 12336, 29901, 7747, 23009, 263, 29871, 29906, 29900, 6063, 634, 29378, 434, 782, 23277, 316, 826, 9318, 26003, 29889, 1720, 263, 8937, 29948, 29871, 29906, 29900, 1993, 29879, 29892, 1766, 17851, 29871, 29906, 29906, 541, 29898, 29879, 29897, 634, 1437, 17843, 5606, 29871, 29896, 29947, 21714, 29898, 29879, 29897, 1437, 3476, 573, 29898, 29879, 467, 13, 13, 2277, 29937, 12015, 12336, 29901, 951, 23277, 270, 29915, 1433, 9318, 26003, 3031, 569, 6079, 7744, 29948, 818, 2257, 23009, 17222, 634, 4292, 1387, 2535, 1597, 19624, 11896, 1283, 6270, 29889, 15946, 2719, 584, 6427, 8284, 29920, 425, 325, 3246, 344, 316, 269, 2158, 29892, 301, 30010, 355, 18541, 263, 10651, 29890, 1387, 634, 966, 1644, 690, 427, 25924, 29889, 7493, 10118, 29920, 966, 15448, 625, 567, 634, 966, 338, 19608, 29899, 29926, 1117, 4285, 2535, 868, 10674, 271, 634, 868, 11581, 482, 3405, 8165, 29889, 13, 2, 2, 2, 2, 2, 2, 2, 2, 2, 2, 2, 2, 2, 2, 2, 2, 2, 2, 2, 2, 2, 2, 2, 2, 2, 2, 2, 2, 2, 2, 2, 2, 2, 2, 2, 2, 2, 2, 2, 2, 2, 2, 2, 2, 2, 2, 2, 2, 2, 2, 2, 2, 2, 2, 2, 2, 2, 2, 2]}\n"
     ]
    },
    {
     "name": "stderr",
     "output_type": "stream",
     "text": [
      "\n"
     ]
    }
   ],
   "source": [
    "# cahrgement de ma data qui etaiten csv en format hunging face\n",
    "dataset = load_dataset(\"csv\", data_files=\"/workspaces/TestTecnique/finetuning/joueurs_dataset.csv\",split=\"train\")\n",
    "print(dataset[0])\n",
    "dataset = dataset.map(format_dataset)\n",
    "\n",
    "print(dataset[0])\n"
   ]
  },
  {
   "cell_type": "code",
   "execution_count": null,
   "id": "01a9382a",
   "metadata": {},
   "outputs": [],
   "source": [
    "#  gardons uniquement la data que le model comprend (les sequences de token)\n",
    "dataset = dataset.remove_columns(['input','output'])\n",
    "print(dataset)"
   ]
  },
  {
   "cell_type": "code",
   "execution_count": null,
   "id": "4170a5a1",
   "metadata": {},
   "outputs": [
    {
     "name": "stdout",
     "output_type": "stream",
     "text": [
      "{'input_ids': [1, 835, 14816, 1254, 12665, 29901, 1174, 11172, 439, 29915, 735, 10700, 427, 16455, 344, 316, 12997, 1912, 316, 5733, 766, 19601, 454, 23277, 868, 23009, 707, 7744, 29948, 634, 27878, 13990, 553, 24472, 3476, 267, 4824, 1387, 1671, 626, 12873, 1611, 261, 3999, 23895, 2480, 778, 29889, 13, 13, 2277, 29937, 1177, 12336, 29901, 7747, 23009, 263, 29871, 29906, 29900, 6063, 634, 29378, 434, 782, 23277, 316, 826, 9318, 26003, 29889, 1720, 263, 8937, 29948, 29871, 29906, 29900, 1993, 29879, 29892, 1766, 17851, 29871, 29906, 29906, 541, 29898, 29879, 29897, 634, 1437, 17843, 5606, 29871, 29896, 29947, 21714, 29898, 29879, 29897, 1437, 3476, 573, 29898, 29879, 467, 13, 13, 2277, 29937, 12015, 12336, 29901, 951, 23277, 270, 29915, 1433, 9318, 26003, 3031, 569, 6079, 7744, 29948, 818, 2257, 23009, 17222, 634, 4292, 1387, 2535, 1597, 19624, 11896, 1283, 6270, 29889, 15946, 2719, 584, 6427, 8284, 29920, 425, 325, 3246, 344, 316, 269, 2158, 29892, 301, 30010, 355, 18541, 263, 10651, 29890, 1387, 634, 966, 1644, 690, 427, 25924, 29889, 7493, 10118, 29920, 966, 15448, 625, 567, 634, 966, 338, 19608, 29899, 29926, 1117, 4285, 2535, 868, 10674, 271, 634, 868, 11581, 482, 3405, 8165, 29889, 13, 2, 2, 2, 2, 2, 2, 2, 2, 2, 2, 2, 2, 2, 2, 2, 2, 2, 2, 2, 2, 2, 2, 2, 2, 2, 2, 2, 2, 2, 2, 2, 2, 2, 2, 2, 2, 2, 2, 2, 2, 2, 2, 2, 2, 2, 2, 2, 2, 2, 2, 2, 2, 2, 2, 2, 2, 2, 2, 2], 'attention_mask': [1, 1, 1, 1, 1, 1, 1, 1, 1, 1, 1, 1, 1, 1, 1, 1, 1, 1, 1, 1, 1, 1, 1, 1, 1, 1, 1, 1, 1, 1, 1, 1, 1, 1, 1, 1, 1, 1, 1, 1, 1, 1, 1, 1, 1, 1, 1, 1, 1, 1, 1, 1, 1, 1, 1, 1, 1, 1, 1, 1, 1, 1, 1, 1, 1, 1, 1, 1, 1, 1, 1, 1, 1, 1, 1, 1, 1, 1, 1, 1, 1, 1, 1, 1, 1, 1, 1, 1, 1, 1, 1, 1, 1, 1, 1, 1, 1, 1, 1, 1, 1, 1, 1, 1, 1, 1, 1, 1, 1, 1, 1, 1, 1, 1, 1, 1, 1, 1, 1, 1, 1, 1, 1, 1, 1, 1, 1, 1, 1, 1, 1, 1, 1, 1, 1, 1, 1, 1, 1, 1, 1, 1, 1, 1, 1, 1, 1, 1, 1, 1, 1, 1, 1, 1, 1, 1, 1, 1, 1, 1, 1, 1, 1, 1, 1, 1, 1, 1, 1, 1, 1, 1, 1, 1, 1, 1, 1, 1, 1, 1, 1, 1, 1, 1, 1, 1, 1, 1, 1, 1, 1, 1, 1, 1, 1, 1, 1, 0, 0, 0, 0, 0, 0, 0, 0, 0, 0, 0, 0, 0, 0, 0, 0, 0, 0, 0, 0, 0, 0, 0, 0, 0, 0, 0, 0, 0, 0, 0, 0, 0, 0, 0, 0, 0, 0, 0, 0, 0, 0, 0, 0, 0, 0, 0, 0, 0, 0, 0, 0, 0, 0, 0, 0, 0, 0, 0], 'labels': [1, 835, 14816, 1254, 12665, 29901, 1174, 11172, 439, 29915, 735, 10700, 427, 16455, 344, 316, 12997, 1912, 316, 5733, 766, 19601, 454, 23277, 868, 23009, 707, 7744, 29948, 634, 27878, 13990, 553, 24472, 3476, 267, 4824, 1387, 1671, 626, 12873, 1611, 261, 3999, 23895, 2480, 778, 29889, 13, 13, 2277, 29937, 1177, 12336, 29901, 7747, 23009, 263, 29871, 29906, 29900, 6063, 634, 29378, 434, 782, 23277, 316, 826, 9318, 26003, 29889, 1720, 263, 8937, 29948, 29871, 29906, 29900, 1993, 29879, 29892, 1766, 17851, 29871, 29906, 29906, 541, 29898, 29879, 29897, 634, 1437, 17843, 5606, 29871, 29896, 29947, 21714, 29898, 29879, 29897, 1437, 3476, 573, 29898, 29879, 467, 13, 13, 2277, 29937, 12015, 12336, 29901, 951, 23277, 270, 29915, 1433, 9318, 26003, 3031, 569, 6079, 7744, 29948, 818, 2257, 23009, 17222, 634, 4292, 1387, 2535, 1597, 19624, 11896, 1283, 6270, 29889, 15946, 2719, 584, 6427, 8284, 29920, 425, 325, 3246, 344, 316, 269, 2158, 29892, 301, 30010, 355, 18541, 263, 10651, 29890, 1387, 634, 966, 1644, 690, 427, 25924, 29889, 7493, 10118, 29920, 966, 15448, 625, 567, 634, 966, 338, 19608, 29899, 29926, 1117, 4285, 2535, 868, 10674, 271, 634, 868, 11581, 482, 3405, 8165, 29889, 13, 2, 2, 2, 2, 2, 2, 2, 2, 2, 2, 2, 2, 2, 2, 2, 2, 2, 2, 2, 2, 2, 2, 2, 2, 2, 2, 2, 2, 2, 2, 2, 2, 2, 2, 2, 2, 2, 2, 2, 2, 2, 2, 2, 2, 2, 2, 2, 2, 2, 2, 2, 2, 2, 2, 2, 2, 2, 2, 2]}\n"
     ]
    }
   ],
   "source": [
    "print(tokenizer.decode(dataset[0]['input_ids']))"
   ]
  },
  {
   "cell_type": "code",
   "execution_count": 47,
   "id": "a7f326b9",
   "metadata": {},
   "outputs": [
    {
     "name": "stdout",
     "output_type": "stream",
     "text": [
      "Dataset({\n",
      "    features: ['input_ids', 'attention_mask', 'labels'],\n",
      "    num_rows: 135\n",
      "})\n",
      "Dataset({\n",
      "    features: ['input_ids', 'attention_mask', 'labels'],\n",
      "    num_rows: 15\n",
      "})\n"
     ]
    }
   ],
   "source": [
    "train_dataset , test_dataset = dataset.train_test_split(test_size=0.1).values()\n",
    "print(train_dataset)\n",
    "print(test_dataset)"
   ]
  },
  {
   "cell_type": "code",
   "execution_count": 56,
   "id": "06fd6dd1",
   "metadata": {},
   "outputs": [
    {
     "name": "stderr",
     "output_type": "stream",
     "text": [
      "/tmp/ipykernel_16137/3032920559.py:2: FutureWarning: `tokenizer` is deprecated and will be removed in version 5.0.0 for `Trainer.__init__`. Use `processing_class` instead.\n",
      "  trainer = Trainer(\n"
     ]
    }
   ],
   "source": [
    "data_collator = DataCollatorForLanguageModeling(tokenizer, mlm=False)\n",
    "trainer = Trainer(\n",
    "                    model = model, \n",
    "                    train_dataset = train_dataset, \n",
    "                    eval_dataset = test_dataset,\n",
    "                    tokenizer = tokenizer, \n",
    "                    data_collator = data_collator, \n",
    "\n",
    "                    args = TrainingArguments(\n",
    "                        output_dir=\"./training\",\n",
    "                        remove_unused_columns=False,\n",
    "                        per_device_train_batch_size=2,\n",
    "                        gradient_checkpointing=True,\n",
    "                        gradient_accumulation_steps=4,\n",
    "                        max_steps=100,\n",
    "                        learning_rate=2.5e-5, \n",
    "                        logging_steps=5,\n",
    "                        fp16=True,\n",
    "                        optim=\"adamw_torch\",\n",
    "                        save_strategy=\"steps\",     \n",
    "                        save_steps=50,             \n",
    "                        # evaluation_strategy=\"steps\",\n",
    "                        eval_steps=5,              \n",
    "                        do_eval=True,\n",
    "                        label_names= ['input_ids', 'attention_mask', 'labels'],\n",
    "                        report_to = \"none\",\n",
    "                        \n",
    "                ))"
   ]
  },
  {
   "cell_type": "code",
   "execution_count": 57,
   "id": "966dc794",
   "metadata": {},
   "outputs": [
    {
     "name": "stderr",
     "output_type": "stream",
     "text": [
      "/usr/local/lib/python3.9/site-packages/torch/utils/data/dataloader.py:665: UserWarning: 'pin_memory' argument is set as true but no accelerator is found, then device pinned memory won't be used.\n",
      "  warnings.warn(warn_msg)\n"
     ]
    },
    {
     "data": {
      "text/html": [
       "\n",
       "    <div>\n",
       "      \n",
       "      <progress value='100' max='100' style='width:300px; height:20px; vertical-align: middle;'></progress>\n",
       "      [100/100 2:27:47, Epoch 5/6]\n",
       "    </div>\n",
       "    <table border=\"1\" class=\"dataframe\">\n",
       "  <thead>\n",
       " <tr style=\"text-align: left;\">\n",
       "      <th>Step</th>\n",
       "      <th>Training Loss</th>\n",
       "    </tr>\n",
       "  </thead>\n",
       "  <tbody>\n",
       "    <tr>\n",
       "      <td>5</td>\n",
       "      <td>2.580700</td>\n",
       "    </tr>\n",
       "    <tr>\n",
       "      <td>10</td>\n",
       "      <td>2.505500</td>\n",
       "    </tr>\n",
       "    <tr>\n",
       "      <td>15</td>\n",
       "      <td>2.501200</td>\n",
       "    </tr>\n",
       "    <tr>\n",
       "      <td>20</td>\n",
       "      <td>2.419300</td>\n",
       "    </tr>\n",
       "    <tr>\n",
       "      <td>25</td>\n",
       "      <td>2.391000</td>\n",
       "    </tr>\n",
       "    <tr>\n",
       "      <td>30</td>\n",
       "      <td>2.331500</td>\n",
       "    </tr>\n",
       "    <tr>\n",
       "      <td>35</td>\n",
       "      <td>2.247500</td>\n",
       "    </tr>\n",
       "    <tr>\n",
       "      <td>40</td>\n",
       "      <td>2.248000</td>\n",
       "    </tr>\n",
       "    <tr>\n",
       "      <td>45</td>\n",
       "      <td>2.186000</td>\n",
       "    </tr>\n",
       "    <tr>\n",
       "      <td>50</td>\n",
       "      <td>2.138900</td>\n",
       "    </tr>\n",
       "    <tr>\n",
       "      <td>55</td>\n",
       "      <td>2.119800</td>\n",
       "    </tr>\n",
       "    <tr>\n",
       "      <td>60</td>\n",
       "      <td>2.066100</td>\n",
       "    </tr>\n",
       "    <tr>\n",
       "      <td>65</td>\n",
       "      <td>2.023300</td>\n",
       "    </tr>\n",
       "    <tr>\n",
       "      <td>70</td>\n",
       "      <td>2.000400</td>\n",
       "    </tr>\n",
       "    <tr>\n",
       "      <td>75</td>\n",
       "      <td>1.951500</td>\n",
       "    </tr>\n",
       "    <tr>\n",
       "      <td>80</td>\n",
       "      <td>1.962800</td>\n",
       "    </tr>\n",
       "    <tr>\n",
       "      <td>85</td>\n",
       "      <td>1.915700</td>\n",
       "    </tr>\n",
       "    <tr>\n",
       "      <td>90</td>\n",
       "      <td>1.946100</td>\n",
       "    </tr>\n",
       "    <tr>\n",
       "      <td>95</td>\n",
       "      <td>1.889300</td>\n",
       "    </tr>\n",
       "    <tr>\n",
       "      <td>100</td>\n",
       "      <td>1.866900</td>\n",
       "    </tr>\n",
       "  </tbody>\n",
       "</table><p>"
      ],
      "text/plain": [
       "<IPython.core.display.HTML object>"
      ]
     },
     "metadata": {},
     "output_type": "display_data"
    },
    {
     "name": "stderr",
     "output_type": "stream",
     "text": [
      "/usr/local/lib/python3.9/site-packages/torch/utils/data/dataloader.py:665: UserWarning: 'pin_memory' argument is set as true but no accelerator is found, then device pinned memory won't be used.\n",
      "  warnings.warn(warn_msg)\n"
     ]
    },
    {
     "data": {
      "text/plain": [
       "TrainOutput(global_step=100, training_loss=2.1645806980133058, metrics={'train_runtime': 8951.2147, 'train_samples_per_second': 0.089, 'train_steps_per_second': 0.011, 'total_flos': 1264639231918080.0, 'train_loss': 2.1645806980133058, 'epoch': 5.882352941176471})"
      ]
     },
     "execution_count": 57,
     "metadata": {},
     "output_type": "execute_result"
    }
   ],
   "source": [
    "trainer.train()"
   ]
  },
  {
   "cell_type": "code",
   "execution_count": 1,
   "id": "93d2ed50",
   "metadata": {},
   "outputs": [
    {
     "ename": "NameError",
     "evalue": "name 'tokenizer' is not defined",
     "output_type": "error",
     "traceback": [
      "\u001b[0;31m---------------------------------------------------------------------------\u001b[0m",
      "\u001b[0;31mNameError\u001b[0m                                 Traceback (most recent call last)",
      "Cell \u001b[0;32mIn[1], line 11\u001b[0m\n\u001b[1;32m      1\u001b[0m txt \u001b[38;5;241m=\u001b[39m \u001b[38;5;124m\"\"\"\u001b[39m\n\u001b[1;32m      2\u001b[0m \u001b[38;5;124m<|system|>\u001b[39m\n\u001b[1;32m      3\u001b[0m \u001b[38;5;124m  En tant qu\u001b[39m\u001b[38;5;124m'\u001b[39m\u001b[38;5;124mexpert en analyse de statistques de football dis moi le poste du joueur est adapté et recommande des exercises physique pour ammeliorer ses perfomances.</s>\u001b[39m\n\u001b[0;32m   (...)\u001b[0m\n\u001b[1;32m      9\u001b[0m \u001b[38;5;124m        \u001b[39m\n\u001b[1;32m     10\u001b[0m \u001b[38;5;124m        \u001b[39m\u001b[38;5;124m\"\"\"\u001b[39m\n\u001b[0;32m---> 11\u001b[0m tokens \u001b[38;5;241m=\u001b[39m \u001b[43mtokenizer\u001b[49m(txt, return_tensors\u001b[38;5;241m=\u001b[39m\u001b[38;5;124m\"\u001b[39m\u001b[38;5;124mpt\u001b[39m\u001b[38;5;124m\"\u001b[39m)[\u001b[38;5;124m'\u001b[39m\u001b[38;5;124minput_ids\u001b[39m\u001b[38;5;124m'\u001b[39m]\u001b[38;5;241m.\u001b[39mto(\u001b[38;5;124m\"\u001b[39m\u001b[38;5;124mcpu\u001b[39m\u001b[38;5;124m\"\u001b[39m)\n\u001b[1;32m     12\u001b[0m op \u001b[38;5;241m=\u001b[39m model\u001b[38;5;241m.\u001b[39mgenerate(tokens, max_new_tokens\u001b[38;5;241m=\u001b[39m\u001b[38;5;241m200\u001b[39m)\n\u001b[1;32m     13\u001b[0m \u001b[38;5;28mprint\u001b[39m(tokenizer\u001b[38;5;241m.\u001b[39mdecode(op[\u001b[38;5;241m0\u001b[39m]))\n",
      "\u001b[0;31mNameError\u001b[0m: name 'tokenizer' is not defined"
     ]
    }
   ],
   "source": [
    "txt = \"\"\"\n",
    "<|system|>\n",
    "  En tant qu'expert en analyse de statistques de football dis moi le poste du joueur est adapté et recommande des exercises physique pour ammeliorer ses perfomances.</s>\n",
    "\n",
    "<|user|>\n",
    "  Ce joueur a 20 ans et évolue au poste de Arrière gauche. Il a disputé 20 matchs, marqué 22 but(s) et délivré 18 passe(s) décisive(s).</s>\n",
    "\n",
    "<|assistant|>\n",
    "        \n",
    "        \"\"\"\n",
    "tokens = tokenizer(txt, return_tensors=\"pt\")['input_ids'].to(\"cpu\")\n",
    "op = model.generate(tokens, max_new_tokens=200)\n",
    "print(tokenizer.decode(op[0]))"
   ]
  },
  {
   "cell_type": "code",
   "execution_count": 61,
   "id": "74b64b19",
   "metadata": {},
   "outputs": [],
   "source": [
    "# Sauvegarde du model finituné\n",
    "model.save_pretrained(\"recomandation_joueur\", safe_serialization=False)\n"
   ]
  },
  {
   "cell_type": "code",
   "execution_count": 62,
   "id": "f0fbebea",
   "metadata": {},
   "outputs": [
    {
     "name": "stdout",
     "output_type": "stream",
     "text": [
      "  adding: workspaces/TestTecnique/finetuning/recomandation_joueur/ (stored 0%)\n",
      "  adding: workspaces/TestTecnique/finetuning/recomandation_joueur/adapter_config.json (deflated 55%)\n",
      "  adding: workspaces/TestTecnique/finetuning/recomandation_joueur/adapter_model.bin"
     ]
    },
    {
     "name": "stderr",
     "output_type": "stream",
     "text": [
      "huggingface/tokenizers: The current process just got forked, after parallelism has already been used. Disabling parallelism to avoid deadlocks...\n",
      "To disable this warning, you can either:\n",
      "\t- Avoid using `tokenizers` before the fork if possible\n",
      "\t- Explicitly set the environment variable TOKENIZERS_PARALLELISM=(true | false)\n"
     ]
    },
    {
     "name": "stdout",
     "output_type": "stream",
     "text": [
      " (deflated 9%)\n",
      "  adding: workspaces/TestTecnique/finetuning/recomandation_joueur/README.md (deflated 66%)\n"
     ]
    }
   ],
   "source": [
    "!zip -r recomandation_joueur.zip '/workspaces/TestTecnique/finetuning/recomandation_joueur'"
   ]
  },
  {
   "cell_type": "code",
   "execution_count": null,
   "id": "f62b8d17",
   "metadata": {},
   "outputs": [],
   "source": []
  }
 ],
 "metadata": {
  "kernelspec": {
   "display_name": "Python 3",
   "language": "python",
   "name": "python3"
  },
  "language_info": {
   "codemirror_mode": {
    "name": "ipython",
    "version": 3
   },
   "file_extension": ".py",
   "mimetype": "text/x-python",
   "name": "python",
   "nbconvert_exporter": "python",
   "pygments_lexer": "ipython3",
   "version": "3.9.21"
  }
 },
 "nbformat": 4,
 "nbformat_minor": 5
}
